{
 "cells": [
  {
   "cell_type": "markdown",
   "metadata": {},
   "source": [
    "Imports:"
   ]
  },
  {
   "cell_type": "code",
   "execution_count": 118,
   "metadata": {},
   "outputs": [],
   "source": [
    "import pandas as pd\n",
    "import numpy as np\n",
    "import pickle\n",
    "\n",
    "import torch\n",
    "import torch.nn as nn\n",
    "import torch.nn.functional as F\n",
    "import torch.optim as optim\n",
    "\n",
    "from sklearn.model_selection import train_test_split\n",
    "from sklearn.metrics import accuracy_score, confusion_matrix, classification_report, f1_score, precision_score, recall_score\n",
    "\n",
    "import tensorflow as tf\n",
    "from keras.models import Sequential\n",
    "from keras.layers import LSTM, Dense, Embedding, Dropout, GlobalMaxPooling1D, Conv1D, BatchNormalization, MaxPooling1D, Flatten, Input\n",
    "from keras.optimizers import SGD\n",
    "from keras.preprocessing.text import Tokenizer\n",
    "from keras.preprocessing.sequence import pad_sequences\n",
    "from keras.callbacks import EarlyStopping, ReduceLROnPlateau\n",
    "from keras.regularizers import l2\n",
    "\n",
    "import prettytable\n",
    "\n",
    "import matplotlib.pyplot as plt\n",
    "%matplotlib inline\n",
    "\n",
    "from word2vec import *"
   ]
  },
  {
   "cell_type": "markdown",
   "metadata": {},
   "source": [
    "Load Dataset: "
   ]
  },
  {
   "cell_type": "code",
   "execution_count": 34,
   "metadata": {},
   "outputs": [
    {
     "data": {
      "text/html": [
       "<div>\n",
       "<style scoped>\n",
       "    .dataframe tbody tr th:only-of-type {\n",
       "        vertical-align: middle;\n",
       "    }\n",
       "\n",
       "    .dataframe tbody tr th {\n",
       "        vertical-align: top;\n",
       "    }\n",
       "\n",
       "    .dataframe thead th {\n",
       "        text-align: right;\n",
       "    }\n",
       "</style>\n",
       "<table border=\"1\" class=\"dataframe\">\n",
       "  <thead>\n",
       "    <tr style=\"text-align: right;\">\n",
       "      <th></th>\n",
       "      <th>class</th>\n",
       "      <th>text</th>\n",
       "    </tr>\n",
       "  </thead>\n",
       "  <tbody>\n",
       "    <tr>\n",
       "      <th>0</th>\n",
       "      <td>1</td>\n",
       "      <td>sex wife threaten suicide recently leave wife ...</td>\n",
       "    </tr>\n",
       "    <tr>\n",
       "      <th>1</th>\n",
       "      <td>0</td>\n",
       "      <td>weird not get affected compliment come someone...</td>\n",
       "    </tr>\n",
       "    <tr>\n",
       "      <th>2</th>\n",
       "      <td>0</td>\n",
       "      <td>finally almost never hear bad year ever swear ...</td>\n",
       "    </tr>\n",
       "    <tr>\n",
       "      <th>3</th>\n",
       "      <td>1</td>\n",
       "      <td>need help help cry hard</td>\n",
       "    </tr>\n",
       "    <tr>\n",
       "      <th>4</th>\n",
       "      <td>1</td>\n",
       "      <td>end tonight can not anymore quit</td>\n",
       "    </tr>\n",
       "    <tr>\n",
       "      <th>...</th>\n",
       "      <td>...</td>\n",
       "      <td>...</td>\n",
       "    </tr>\n",
       "    <tr>\n",
       "      <th>174219</th>\n",
       "      <td>0</td>\n",
       "      <td>something today go sled friend may not seem li...</td>\n",
       "    </tr>\n",
       "    <tr>\n",
       "      <th>174220</th>\n",
       "      <td>0</td>\n",
       "      <td>not like rock not go get anything go</td>\n",
       "    </tr>\n",
       "    <tr>\n",
       "      <th>174221</th>\n",
       "      <td>0</td>\n",
       "      <td>tell many friend not lonely everything deprive...</td>\n",
       "    </tr>\n",
       "    <tr>\n",
       "      <th>174222</th>\n",
       "      <td>0</td>\n",
       "      <td>pee probably taste like salty tea someone drin...</td>\n",
       "    </tr>\n",
       "    <tr>\n",
       "      <th>174223</th>\n",
       "      <td>0</td>\n",
       "      <td>still not beat first bos hollow knight fought ...</td>\n",
       "    </tr>\n",
       "  </tbody>\n",
       "</table>\n",
       "<p>174224 rows × 2 columns</p>\n",
       "</div>"
      ],
      "text/plain": [
       "        class                                               text\n",
       "0           1  sex wife threaten suicide recently leave wife ...\n",
       "1           0  weird not get affected compliment come someone...\n",
       "2           0  finally almost never hear bad year ever swear ...\n",
       "3           1                            need help help cry hard\n",
       "4           1                   end tonight can not anymore quit\n",
       "...       ...                                                ...\n",
       "174219      0  something today go sled friend may not seem li...\n",
       "174220      0               not like rock not go get anything go\n",
       "174221      0  tell many friend not lonely everything deprive...\n",
       "174222      0  pee probably taste like salty tea someone drin...\n",
       "174223      0  still not beat first bos hollow knight fought ...\n",
       "\n",
       "[174224 rows x 2 columns]"
      ]
     },
     "execution_count": 34,
     "metadata": {},
     "output_type": "execute_result"
    }
   ],
   "source": [
    "suicide_detection_df = pd.read_csv('Data/Suicide_Detection_Final.csv', header=0)\n",
    "suicide_detection_df.replace({\"class\": {\"suicide\": 1, \"non-suicide\": 0}}, inplace=True)\n",
    "suicide_detection_df.drop(columns=['text'], inplace=True)\n",
    "suicide_detection_df = suicide_detection_df.rename(columns={\"cleaned_text\": \"text\"})\n",
    "suicide_detection_df\n",
    "     "
   ]
  },
  {
   "cell_type": "code",
   "execution_count": 35,
   "metadata": {},
   "outputs": [],
   "source": [
    "SEED = 4222\n",
    "EPOCHS = 5     "
   ]
  },
  {
   "cell_type": "code",
   "execution_count": 36,
   "metadata": {},
   "outputs": [],
   "source": [
    "# Split dataset into train, validation and test sets\n",
    "train_text, test_text, train_labels, test_labels = train_test_split(suicide_detection_df['text'], suicide_detection_df['class'],\n",
    "                                                                    random_state=SEED,\n",
    "                                                                    test_size=0.2,\n",
    "                                                                    stratify=suicide_detection_df['class'])\n",
    "     "
   ]
  },
  {
   "cell_type": "markdown",
   "metadata": {},
   "source": [
    "Create lists out of data:\n"
   ]
  },
  {
   "cell_type": "code",
   "execution_count": 37,
   "metadata": {},
   "outputs": [],
   "source": [
    "train_text_list = train_text.to_list()\n",
    "test_text_list = test_text.to_list()"
   ]
  },
  {
   "cell_type": "markdown",
   "metadata": {},
   "source": [
    "### Create Word2Vec Embeddings"
   ]
  },
  {
   "cell_type": "code",
   "execution_count": 41,
   "metadata": {},
   "outputs": [
    {
     "name": "stdout",
     "output_type": "stream",
     "text": [
      "Created vocab\n",
      "Filtered data\n"
     ]
    }
   ],
   "source": [
    "model = build_and_train_w2v(train_text, 'Data/vocab.txt', size=100, window=10, min_count=1, seed=SEED)"
   ]
  },
  {
   "cell_type": "code",
   "execution_count": 15,
   "metadata": {},
   "outputs": [],
   "source": [
    "# save model in ASCII (word2vec) format\n",
    "filename = 'Data/embedding_word2vec.txt'\n",
    "model.wv.save_word2vec_format(filename, binary=False)"
   ]
  },
  {
   "cell_type": "code",
   "execution_count": 16,
   "metadata": {},
   "outputs": [
    {
     "data": {
      "text/plain": [
       "array([ 0.9773388 , -0.79447114,  1.3530589 , -2.7581582 ,  0.5749639 ,\n",
       "        0.8760257 , -0.0263493 ,  0.30944148,  1.1790156 , -2.1728652 ,\n",
       "        1.4526525 ,  0.0300597 , -0.91938573,  1.7271922 ,  1.858517  ,\n",
       "        1.1788456 ,  1.2480174 , -0.61717635, -0.88342243,  1.9072415 ,\n",
       "        0.3122152 , -0.36911514, -1.498514  , -1.0652018 , -0.8949371 ,\n",
       "       -2.6556225 , -1.0424315 , -0.64992976, -1.5206785 , -0.26523888,\n",
       "       -0.5489853 , -0.5065771 ,  0.51189196,  0.7043124 ,  2.5573    ,\n",
       "       -2.8354106 ,  1.0097511 , -0.99265486,  1.1465017 , -0.9919296 ,\n",
       "       -2.762761  ,  0.22080773,  2.5458305 , -1.0009484 , -0.09977311,\n",
       "       -2.1108735 , -1.456767  ,  0.59842616, -1.5876533 ,  0.50874317,\n",
       "       -0.03524625, -0.6297616 , -2.087734  ,  0.8002677 , -0.23586479,\n",
       "        0.18074411,  0.02644702, -0.07640674,  1.1297915 ,  1.81205   ,\n",
       "       -0.08904827,  0.64148474, -1.1347479 , -0.22442636,  0.7230523 ,\n",
       "        0.63385606,  1.2472035 , -0.41576102,  0.39601782, -0.24560513,\n",
       "       -2.9323537 ,  1.6912011 , -0.12603535,  0.63995427, -1.0366517 ,\n",
       "        1.2398214 ,  0.17813413,  0.06313255,  1.0019068 ,  1.2543063 ,\n",
       "        0.628347  ,  0.26911283,  0.8228902 ,  1.664701  ,  0.5538074 ,\n",
       "        0.9733824 , -1.8564343 , -0.11448722, -0.65045375, -2.3641725 ,\n",
       "       -1.8392919 ,  0.82494223, -0.8324046 , -1.2276264 ,  2.1126275 ,\n",
       "        2.5627577 ,  1.2143825 , -0.85911494,  0.16354333,  3.498556  ],\n",
       "      dtype=float32)"
      ]
     },
     "execution_count": 16,
     "metadata": {},
     "output_type": "execute_result"
    }
   ],
   "source": [
    "model.wv[\"sad\"]"
   ]
  },
  {
   "cell_type": "code",
   "execution_count": 17,
   "metadata": {},
   "outputs": [
    {
     "data": {
      "text/plain": [
       "[('ruhr', 0.6136550903320312),\n",
       " ('physiologist', 0.585098385810852),\n",
       " ('furtherance', 0.569932758808136),\n",
       " ('arson', 0.5661197304725647),\n",
       " ('suicidal', 0.5598054528236389),\n",
       " ('involuntarily', 0.5566613674163818),\n",
       " ('unsuccessful', 0.5402469635009766),\n",
       " ('hgsdjasoihatelifegdbhsjjnhdgskjlkvfdhkj', 0.5098829865455627),\n",
       " ('broadcaster', 0.5086207389831543),\n",
       " ('kill', 0.5062658190727234)]"
      ]
     },
     "execution_count": 17,
     "metadata": {},
     "output_type": "execute_result"
    }
   ],
   "source": [
    "model.wv.most_similar('suicide')"
   ]
  },
  {
   "cell_type": "code",
   "execution_count": 59,
   "metadata": {},
   "outputs": [],
   "source": [
    "# Tokenize the text data\n",
    "tokenizer = Tokenizer()\n",
    "tokenizer.fit_on_texts(train_text_list)\n",
    "\n",
    "X_train = tokenizer.texts_to_sequences(train_text_list)\n",
    "X_test = tokenizer.texts_to_sequences(test_text_list)"
   ]
  },
  {
   "cell_type": "code",
   "execution_count": 60,
   "metadata": {},
   "outputs": [],
   "source": [
    "vocab_size = len(tokenizer.word_index) + 1\n",
    "\n",
    "# Pad the sequences to a fixed length\n",
    "max_length = 100\n",
    "X_train = pad_sequences(X_train, maxlen=max_length, padding='post')\n",
    "X_test = pad_sequences(X_test, maxlen=max_length, padding='post')"
   ]
  },
  {
   "cell_type": "code",
   "execution_count": 61,
   "metadata": {},
   "outputs": [],
   "source": [
    "# Embedding the words using the WORD2VEC \n",
    "embedding_matrix = np.zeros((vocab_size, 100))\n",
    "for word, i in tokenizer.word_index.items():\n",
    "    if word in model.wv:\n",
    "        embedding_matrix[i] = model.wv[word]"
   ]
  },
  {
   "cell_type": "markdown",
   "metadata": {},
   "source": [
    "## Create the NN Models"
   ]
  },
  {
   "cell_type": "code",
   "execution_count": 62,
   "metadata": {},
   "outputs": [],
   "source": [
    "early_stopping = EarlyStopping(monitor=\"val_loss\", patience=2, verbose=1, restore_best_weights=True)"
   ]
  },
  {
   "cell_type": "markdown",
   "metadata": {},
   "source": [
    "### Model 1: "
   ]
  },
  {
   "cell_type": "code",
   "execution_count": 72,
   "metadata": {},
   "outputs": [
    {
     "name": "stdout",
     "output_type": "stream",
     "text": [
      "Epoch 1/10\n",
      "4356/4356 [==============================] - 70s 16ms/step - loss: 0.2647 - accuracy: 0.8992 - val_loss: 0.2215 - val_accuracy: 0.9166\n",
      "Epoch 2/10\n",
      "4356/4356 [==============================] - 72s 16ms/step - loss: 0.2377 - accuracy: 0.9110 - val_loss: 0.2256 - val_accuracy: 0.9156\n",
      "Epoch 3/10\n",
      "4356/4356 [==============================] - 71s 16ms/step - loss: 0.2346 - accuracy: 0.9133 - val_loss: 0.2183 - val_accuracy: 0.9216\n",
      "Epoch 4/10\n",
      "4356/4356 [==============================] - 73s 17ms/step - loss: 0.2300 - accuracy: 0.9160 - val_loss: 0.2288 - val_accuracy: 0.9229\n",
      "Epoch 5/10\n",
      "4356/4356 [==============================] - 69s 16ms/step - loss: 0.2280 - accuracy: 0.9161 - val_loss: 0.2176 - val_accuracy: 0.9227\n",
      "Epoch 6/10\n",
      "4356/4356 [==============================] - 76s 17ms/step - loss: 0.2262 - accuracy: 0.9170 - val_loss: 0.2294 - val_accuracy: 0.9230\n",
      "Epoch 7/10\n",
      "4356/4356 [==============================] - ETA: 0s - loss: 0.2240 - accuracy: 0.9177Restoring model weights from the end of the best epoch: 5.\n",
      "4356/4356 [==============================] - 75s 17ms/step - loss: 0.2240 - accuracy: 0.9177 - val_loss: 0.2385 - val_accuracy: 0.9222\n",
      "Epoch 7: early stopping\n"
     ]
    }
   ],
   "source": [
    "cnn_model1 = Sequential()\n",
    "cnn_model1.add(Embedding(vocab_size, 100, weights=[embedding_matrix], input_length=max_length, trainable=False))\n",
    "cnn_model1.add(Conv1D(128, 5, activation='relu'))\n",
    "cnn_model1.add(MaxPooling1D(5))\n",
    "cnn_model1.add(Dropout(0.5)) \n",
    "cnn_model1.add(Conv1D(128, 5, activation='relu'))\n",
    "cnn_model1.add(MaxPooling1D(5))\n",
    "cnn_model1.add(Dropout(0.5)) \n",
    "cnn_model1.add(Flatten())\n",
    "cnn_model1.add(Dense(128, activation='relu'))\n",
    "cnn_model1.add(Dropout(0.5))\n",
    "cnn_model1.add(Dense(1, activation='sigmoid'))\n",
    "\n",
    "cnn_model1.compile(optimizer='adam', loss='binary_crossentropy', metrics=['accuracy'])\n",
    "cnn1_history = cnn_model1.fit(X_train, train_labels, epochs=10, batch_size=32, validation_data=(X_test, test_labels), callbacks=[early_stopping])"
   ]
  },
  {
   "cell_type": "code",
   "execution_count": 112,
   "metadata": {},
   "outputs": [],
   "source": [
    "# Save the model\n",
    "cnn_model1.save('Models/CNN_model1.h5')"
   ]
  },
  {
   "cell_type": "markdown",
   "metadata": {},
   "source": [
    "### Model 2:\n",
    "- Altered the `dropout_rate` to 0.2\n",
    "- Added batch normalization, which normalized the inputs of the layer for each batch."
   ]
  },
  {
   "cell_type": "code",
   "execution_count": 75,
   "metadata": {},
   "outputs": [
    {
     "name": "stdout",
     "output_type": "stream",
     "text": [
      "Epoch 1/10\n",
      "4356/4356 [==============================] - 95s 21ms/step - loss: 0.2390 - accuracy: 0.9072 - val_loss: 0.2083 - val_accuracy: 0.9204\n",
      "Epoch 2/10\n",
      "4356/4356 [==============================] - 81s 19ms/step - loss: 0.2099 - accuracy: 0.9204 - val_loss: 0.2012 - val_accuracy: 0.9231\n",
      "Epoch 3/10\n",
      "4356/4356 [==============================] - 89s 20ms/step - loss: 0.1961 - accuracy: 0.9256 - val_loss: 0.1953 - val_accuracy: 0.9260\n",
      "Epoch 4/10\n",
      "4356/4356 [==============================] - 93s 21ms/step - loss: 0.1831 - accuracy: 0.9305 - val_loss: 0.1924 - val_accuracy: 0.9263\n",
      "Epoch 5/10\n",
      "4356/4356 [==============================] - 85s 19ms/step - loss: 0.1712 - accuracy: 0.9356 - val_loss: 0.2092 - val_accuracy: 0.9227\n",
      "Epoch 6/10\n",
      "4355/4356 [============================>.] - ETA: 0s - loss: 0.1595 - accuracy: 0.9402Restoring model weights from the end of the best epoch: 4.\n",
      "4356/4356 [==============================] - 80s 18ms/step - loss: 0.1595 - accuracy: 0.9402 - val_loss: 0.2143 - val_accuracy: 0.9232\n",
      "Epoch 6: early stopping\n"
     ]
    }
   ],
   "source": [
    "cnn_model2 = Sequential()\n",
    "cnn_model2.add(Embedding(vocab_size, 100, weights=[embedding_matrix], input_length=max_length, trainable=False))\n",
    "cnn_model2.add(Conv1D(128, 5, activation='relu'))\n",
    "cnn_model2.add(MaxPooling1D(5))\n",
    "cnn_model2.add(BatchNormalization())\n",
    "cnn_model2.add(Dropout(0.2))\n",
    "cnn_model2.add(Conv1D(128, 5, activation='relu'))\n",
    "cnn_model2.add(MaxPooling1D(5))\n",
    "cnn_model2.add(BatchNormalization())\n",
    "cnn_model2.add(Dropout(0.2))\n",
    "cnn_model2.add(Flatten())\n",
    "cnn_model2.add(Dense(128, activation='relu'))\n",
    "cnn_model2.add(Dropout(0.2))\n",
    "cnn_model2.add(Dense(1, activation='sigmoid'))\n",
    "\n",
    "cnn_model2.compile(optimizer='adam', loss='binary_crossentropy', metrics=['accuracy'])\n",
    "cnn2_history = cnn_model2.fit(X_train, train_labels, epochs=10, batch_size=32, validation_data=(X_test, test_labels), callbacks=[early_stopping])"
   ]
  },
  {
   "cell_type": "code",
   "execution_count": 113,
   "metadata": {},
   "outputs": [],
   "source": [
    "# Save the model\n",
    "cnn_model2.save('Models/CNN_model2.h5')"
   ]
  },
  {
   "cell_type": "markdown",
   "metadata": {},
   "source": [
    "### Model 3: \n",
    "- Altered `dropout rate` to 0.1\n",
    "- Second convolutional layer's kernel_size changed to 6.\n",
    "- Regularization in the dense layer using `l2` regularization. "
   ]
  },
  {
   "cell_type": "code",
   "execution_count": 80,
   "metadata": {},
   "outputs": [
    {
     "name": "stdout",
     "output_type": "stream",
     "text": [
      "Epoch 1/10\n",
      "4356/4356 [==============================] - 69s 15ms/step - loss: 0.3073 - accuracy: 0.9066 - val_loss: 0.2217 - val_accuracy: 0.9213\n",
      "Epoch 2/10\n",
      "4356/4356 [==============================] - 72s 16ms/step - loss: 0.2272 - accuracy: 0.9181 - val_loss: 0.2171 - val_accuracy: 0.9209\n",
      "Epoch 3/10\n",
      "4356/4356 [==============================] - 72s 16ms/step - loss: 0.2100 - accuracy: 0.9251 - val_loss: 0.2125 - val_accuracy: 0.9224\n",
      "Epoch 4/10\n",
      "4356/4356 [==============================] - 75s 17ms/step - loss: 0.1954 - accuracy: 0.9306 - val_loss: 0.2140 - val_accuracy: 0.9225\n",
      "Epoch 5/10\n",
      "4356/4356 [==============================] - ETA: 0s - loss: 0.1821 - accuracy: 0.9367Restoring model weights from the end of the best epoch: 3.\n",
      "4356/4356 [==============================] - 78s 18ms/step - loss: 0.1821 - accuracy: 0.9367 - val_loss: 0.2178 - val_accuracy: 0.9215\n",
      "Epoch 5: early stopping\n"
     ]
    }
   ],
   "source": [
    "cnn_model3 = Sequential()\n",
    "cnn_model3.add(Embedding(vocab_size, 100, weights=[embedding_matrix], input_length=max_length, trainable=False))\n",
    "cnn_model3.add(Conv1D(128, 5, activation='relu'))\n",
    "cnn_model3.add(MaxPooling1D(5))\n",
    "cnn_model3.add(BatchNormalization())\n",
    "cnn_model3.add(Dropout(0.1))\n",
    "cnn_model3.add(Conv1D(128, 6, activation='relu'))\n",
    "cnn_model3.add(MaxPooling1D(5))\n",
    "cnn_model3.add(BatchNormalization())\n",
    "cnn_model3.add(Dropout(0.1))\n",
    "cnn_model3.add(Flatten())\n",
    "cnn_model3.add(Dense(128, activation='relu', kernel_regularizer=l2(0.01)))\n",
    "cnn_model3.add(Dropout(0.1))\n",
    "cnn_model3.add(Dense(1, activation='sigmoid'))\n",
    "\n",
    "cnn_model3.compile(optimizer='adam', loss='binary_crossentropy', metrics=['accuracy'])\n",
    "cnn3_history = cnn_model3.fit(X_train, train_labels, epochs=10, batch_size=32, validation_data=(X_test, test_labels), callbacks=[early_stopping])"
   ]
  },
  {
   "cell_type": "code",
   "execution_count": 114,
   "metadata": {},
   "outputs": [],
   "source": [
    "cnn_model3.save('Models/CNN_model3.h5')"
   ]
  },
  {
   "cell_type": "markdown",
   "metadata": {},
   "source": [
    "### Model 4: \n",
    "- Added an `LSTM` layer with 30 units.\n",
    "- Added a `GlobalMaxPooling1D` layer to the model.\n",
    "- Removed `Flatten`, `Dropout` and `BatchNormalization` layers.\n",
    "- Added a `ReduceLROnPlateau` callback to the model.\n",
    "- Increased `epochs` and `batch_size`.\n",
    "- Increased `patience` in the `EarlyStopping` callback."
   ]
  },
  {
   "cell_type": "code",
   "execution_count": 89,
   "metadata": {},
   "outputs": [
    {
     "name": "stdout",
     "output_type": "stream",
     "text": [
      "Epoch 1/20\n",
      "545/545 [==============================] - 39s 68ms/step - loss: 0.2240 - accuracy: 0.9118 - val_loss: 0.2013 - val_accuracy: 0.9229 - lr: 0.1000\n",
      "Epoch 2/20\n",
      "545/545 [==============================] - 37s 68ms/step - loss: 0.1912 - accuracy: 0.9269 - val_loss: 0.1899 - val_accuracy: 0.9276 - lr: 0.1000\n",
      "Epoch 3/20\n",
      "545/545 [==============================] - 35s 64ms/step - loss: 0.1844 - accuracy: 0.9293 - val_loss: 0.1908 - val_accuracy: 0.9265 - lr: 0.1000\n",
      "Epoch 4/20\n",
      "545/545 [==============================] - 35s 65ms/step - loss: 0.1788 - accuracy: 0.9319 - val_loss: 0.1889 - val_accuracy: 0.9289 - lr: 0.1000\n",
      "Epoch 5/20\n",
      "545/545 [==============================] - 33s 61ms/step - loss: 0.1744 - accuracy: 0.9337 - val_loss: 0.1865 - val_accuracy: 0.9290 - lr: 0.1000\n",
      "Epoch 6/20\n",
      "545/545 [==============================] - 34s 63ms/step - loss: 0.1709 - accuracy: 0.9349 - val_loss: 0.1863 - val_accuracy: 0.9290 - lr: 0.1000\n",
      "Epoch 7/20\n",
      "545/545 [==============================] - 34s 63ms/step - loss: 0.1679 - accuracy: 0.9366 - val_loss: 0.1854 - val_accuracy: 0.9302 - lr: 0.1000\n",
      "Epoch 8/20\n",
      "545/545 [==============================] - 35s 64ms/step - loss: 0.1646 - accuracy: 0.9375 - val_loss: 0.1864 - val_accuracy: 0.9296 - lr: 0.1000\n",
      "Epoch 9/20\n",
      "545/545 [==============================] - 36s 66ms/step - loss: 0.1622 - accuracy: 0.9387 - val_loss: 0.1839 - val_accuracy: 0.9300 - lr: 0.1000\n",
      "Epoch 10/20\n",
      "545/545 [==============================] - 37s 67ms/step - loss: 0.1610 - accuracy: 0.9391 - val_loss: 0.1838 - val_accuracy: 0.9300 - lr: 0.1000\n",
      "Epoch 11/20\n",
      "545/545 [==============================] - 35s 64ms/step - loss: 0.1588 - accuracy: 0.9406 - val_loss: 0.1852 - val_accuracy: 0.9311 - lr: 0.1000\n",
      "Epoch 12/20\n",
      "544/545 [============================>.] - ETA: 0s - loss: 0.1570 - accuracy: 0.9407\n",
      "Epoch 12: ReduceLROnPlateau reducing learning rate to 0.010000000149011612.\n",
      "545/545 [==============================] - 35s 64ms/step - loss: 0.1570 - accuracy: 0.9407 - val_loss: 0.1856 - val_accuracy: 0.9306 - lr: 0.1000\n",
      "Epoch 13/20\n",
      "545/545 [==============================] - 36s 66ms/step - loss: 0.1484 - accuracy: 0.9447 - val_loss: 0.1843 - val_accuracy: 0.9310 - lr: 0.0100\n",
      "Epoch 14/20\n",
      "545/545 [==============================] - 35s 64ms/step - loss: 0.1454 - accuracy: 0.9460 - val_loss: 0.1856 - val_accuracy: 0.9309 - lr: 0.0100\n",
      "Epoch 15/20\n",
      "544/545 [============================>.] - ETA: 0s - loss: 0.1442 - accuracy: 0.9466Restoring model weights from the end of the best epoch: 10.\n",
      "\n",
      "Epoch 15: ReduceLROnPlateau reducing learning rate to 0.0009999999776482583.\n",
      "545/545 [==============================] - 36s 66ms/step - loss: 0.1442 - accuracy: 0.9466 - val_loss: 0.1851 - val_accuracy: 0.9310 - lr: 0.0100\n",
      "Epoch 15: early stopping\n"
     ]
    }
   ],
   "source": [
    "# Define early stopping callback\n",
    "early_stopping = EarlyStopping(monitor='val_loss', patience=5, verbose=1, restore_best_weights=True)\n",
    "\n",
    "# Define learning rate reduction on plateau callback\n",
    "reducelr = ReduceLROnPlateau(patience=3, verbose=1)\n",
    "\n",
    "# Define the CNN model\n",
    "cnn_model4 = Sequential()\n",
    "cnn_model4.add(Input(shape=(max_length,)))\n",
    "cnn_model4.add(Embedding(vocab_size, 100, weights=[embedding_matrix], trainable=False))\n",
    "cnn_model4.add(LSTM(20, return_sequences=True))\n",
    "cnn_model4.add(GlobalMaxPooling1D())\n",
    "cnn_model4.add(Dense(256, activation='relu'))\n",
    "cnn_model4.add(Dense(1, activation='sigmoid'))\n",
    "\n",
    "cnn_model4.compile(optimizer=SGD(learning_rate=0.1, momentum=0.9), loss='binary_crossentropy', metrics=['accuracy'])\n",
    "cnn4_history = cnn_model4.fit(X_train, train_labels, epochs=20, batch_size=256, validation_data=(X_test, test_labels), callbacks=[early_stopping, reducelr])"
   ]
  },
  {
   "cell_type": "code",
   "execution_count": 115,
   "metadata": {},
   "outputs": [],
   "source": [
    "cnn_model4.save('Models/CNN_model4.h5')"
   ]
  },
  {
   "cell_type": "code",
   "execution_count": 130,
   "metadata": {},
   "outputs": [
    {
     "name": "stdout",
     "output_type": "stream",
     "text": [
      "Epoch 1/20\n",
      "545/545 [==============================] - 64s 110ms/step - loss: 0.2188 - accuracy: 0.9137 - val_loss: 0.1951 - val_accuracy: 0.9253 - lr: 0.1000\n",
      "Epoch 2/20\n",
      "545/545 [==============================] - 57s 105ms/step - loss: 0.1882 - accuracy: 0.9278 - val_loss: 0.1937 - val_accuracy: 0.9245 - lr: 0.1000\n",
      "Epoch 3/20\n",
      "545/545 [==============================] - 61s 112ms/step - loss: 0.1792 - accuracy: 0.9315 - val_loss: 0.1942 - val_accuracy: 0.9250 - lr: 0.1000\n",
      "Epoch 4/20\n",
      "545/545 [==============================] - 63s 115ms/step - loss: 0.1722 - accuracy: 0.9343 - val_loss: 0.1897 - val_accuracy: 0.9261 - lr: 0.1000\n",
      "Epoch 5/20\n",
      "545/545 [==============================] - 63s 116ms/step - loss: 0.1669 - accuracy: 0.9363 - val_loss: 0.1842 - val_accuracy: 0.9300 - lr: 0.1000\n",
      "Epoch 6/20\n",
      "545/545 [==============================] - 63s 116ms/step - loss: 0.1620 - accuracy: 0.9389 - val_loss: 0.1862 - val_accuracy: 0.9296 - lr: 0.1000\n",
      "Epoch 7/20\n",
      "545/545 [==============================] - 60s 110ms/step - loss: 0.1577 - accuracy: 0.9403 - val_loss: 0.1885 - val_accuracy: 0.9291 - lr: 0.1000\n",
      "Epoch 8/20\n",
      "545/545 [==============================] - ETA: 0s - loss: 0.1539 - accuracy: 0.9421\n",
      "Epoch 8: ReduceLROnPlateau reducing learning rate to 0.010000000149011612.\n",
      "545/545 [==============================] - 62s 113ms/step - loss: 0.1539 - accuracy: 0.9421 - val_loss: 0.1847 - val_accuracy: 0.9304 - lr: 0.1000\n",
      "Epoch 9/20\n",
      "545/545 [==============================] - 60s 110ms/step - loss: 0.1418 - accuracy: 0.9468 - val_loss: 0.1866 - val_accuracy: 0.9301 - lr: 0.0100\n",
      "Epoch 10/20\n",
      "545/545 [==============================] - ETA: 0s - loss: 0.1378 - accuracy: 0.9486Restoring model weights from the end of the best epoch: 5.\n",
      "545/545 [==============================] - 73s 134ms/step - loss: 0.1378 - accuracy: 0.9486 - val_loss: 0.1879 - val_accuracy: 0.9300 - lr: 0.0100\n",
      "Epoch 10: early stopping\n"
     ]
    }
   ],
   "source": [
    "# CNN with Bidirectional LSTM\n",
    "from keras.layers import Bidirectional\n",
    "\n",
    "cnn_model5 = Sequential()\n",
    "cnn_model5.add(Input(shape=(max_length,)))\n",
    "cnn_model5.add(Embedding(vocab_size, 100, weights=[embedding_matrix], trainable=False))\n",
    "cnn_model5.add(Bidirectional(LSTM(20, return_sequences=True)))\n",
    "cnn_model5.add(GlobalMaxPooling1D())\n",
    "cnn_model5.add(Dense(256, activation='relu'))\n",
    "cnn_model5.add(Dense(1, activation='sigmoid'))\n",
    "\n",
    "cnn_model5.compile(optimizer=SGD(learning_rate=0.1, momentum=0.9), loss='binary_crossentropy', metrics=['accuracy'])\n",
    "cnn5_history = cnn_model5.fit(X_train, train_labels, epochs=20, batch_size=256, validation_data=(X_test, test_labels), callbacks=[early_stopping, reducelr])\n"
   ]
  },
  {
   "cell_type": "code",
   "execution_count": 132,
   "metadata": {},
   "outputs": [
    {
     "name": "stderr",
     "output_type": "stream",
     "text": [
      "/Users/daniellazabari/Desktop/NLP_final_project/.venv/lib/python3.10/site-packages/keras/src/engine/training.py:3000: UserWarning: You are saving your model as an HDF5 file via `model.save()`. This file format is considered legacy. We recommend using instead the native Keras format, e.g. `model.save('my_model.keras')`.\n",
      "  saving_api.save_model(\n"
     ]
    }
   ],
   "source": [
    "# Save the model\n",
    "cnn_model5.save('Models/CNN_model5.h5')"
   ]
  },
  {
   "cell_type": "markdown",
   "metadata": {},
   "source": [
    "### Choosing the best model"
   ]
  },
  {
   "cell_type": "code",
   "execution_count": 100,
   "metadata": {},
   "outputs": [],
   "source": [
    "def compute_metrics(model, X_test, y_test):\n",
    "    y_pred = model.predict(X_test)\n",
    "    y_pred = np.round(y_pred).astype(int)\n",
    "    accuracy = accuracy_score(y_test, y_pred)\n",
    "    f1 = f1_score(y_test, y_pred)\n",
    "    precision = precision_score(y_test, y_pred)\n",
    "    recall = recall_score(y_test, y_pred)\n",
    "    \n",
    "    return accuracy, f1, precision, recall\n"
   ]
  },
  {
   "cell_type": "code",
   "execution_count": 101,
   "metadata": {},
   "outputs": [
    {
     "name": "stdout",
     "output_type": "stream",
     "text": [
      "1089/1089 [==============================] - 5s 4ms/step\n",
      "1089/1089 [==============================] - 5s 5ms/step\n",
      "1089/1089 [==============================] - 5s 4ms/step\n",
      "1089/1089 [==============================] - 8s 7ms/step\n",
      "1089/1089 [==============================] - 11s 9ms/step\n",
      "+-------------+--------------------+--------------------+--------------------+--------------------+\n",
      "|    Model    |      Accuracy      |     Precision      |       Recall       |      F1-Score      |\n",
      "+-------------+--------------------+--------------------+--------------------+--------------------+\n",
      "| CNN Model 1 | 0.9227148801836705 | 0.9085749348059519 | 0.8875402712219974 | 0.8979344324426758 |\n",
      "| CNN Model 2 | 0.9263308939589611 | 0.8953931924882629 | 0.9145126245598262 | 0.9048519218651543 |\n",
      "| CNN Model 3 | 0.9224278949634094 | 0.9110922292600031 | 0.8837191878324717 | 0.8971969725782528 |\n",
      "| CNN Model 4 | 0.9299756062562778 | 0.9061592313994191 | 0.9115906196148947 | 0.9088668110853815 |\n",
      "| CNN Model 5 | 0.9309226574831396 | 0.9147710039429785 | 0.9038735296321271 | 0.9092896174863389 |\n",
      "+-------------+--------------------+--------------------+--------------------+--------------------+\n"
     ]
    }
   ],
   "source": [
    "# Create a prettytable object\n",
    "table = prettytable.PrettyTable()\n",
    "\n",
    "# Set the column names\n",
    "table.field_names = [\"Model\", \"Accuracy\", \"Precision\", \"Recall\", \"F1-Score\"]\n",
    "\n",
    "# Add data to the table\n",
    "cnn1_accuracy, cnn1_f1, cnn1_precision, cnn1_recall = compute_metrics(cnn_model1, X_test, test_labels)\n",
    "table.add_row([\"CNN Model 1\", cnn1_accuracy, cnn1_precision, cnn1_recall, cnn1_f1])\n",
    "\n",
    "cnn2_accuracy, cnn2_f1, cnn2_precision, cnn2_recall = compute_metrics(cnn_model2, X_test, test_labels)\n",
    "table.add_row([\"CNN Model 2\", cnn2_accuracy, cnn2_precision, cnn2_recall, cnn2_f1])\n",
    "\n",
    "cnn3_accuracy, cnn3_f1, cnn3_precision, cnn3_recall = compute_metrics(cnn_model3, X_test, test_labels)\n",
    "table.add_row([\"CNN Model 3\", cnn3_accuracy, cnn3_precision, cnn3_recall, cnn3_f1])\n",
    "\n",
    "cnn4_accuracy, cnn4_f1, cnn4_precision, cnn4_recall = compute_metrics(cnn_model4, X_test, test_labels)\n",
    "table.add_row([\"CNN Model 4\", cnn4_accuracy, cnn4_precision, cnn4_recall, cnn4_f1])\n",
    "\n",
    "cnn5_accuracy, cnn5_f1, cnn5_precision, cnn5_recall = compute_metrics(cnn_model5, X_test, test_labels)\n",
    "table.add_row([\"CNN Model 5\", cnn5_accuracy, cnn5_precision, cnn5_recall, cnn5_f1])\n",
    "\n",
    "print(table)\n"
   ]
  },
  {
   "cell_type": "code",
   "execution_count": 102,
   "metadata": {},
   "outputs": [
    {
     "name": "stdout",
     "output_type": "stream",
     "text": [
      "CNN model1: accuracy: 92.271489, loss: 0.217593\n",
      "CNN model2: accuracy: 92.633086, loss: 0.192399\n",
      "CNN model3: accuracy: 92.242789, loss: 0.212545\n",
      "CNN model4: accuracy: 92.997563, loss: 0.183788\n",
      "CNN model5: accuracy: 93.092269, loss: 0.180136\n"
     ]
    },
    {
     "data": {
      "image/png": "[encoded data removed]",
      "text/plain": [
       "<Figure size 1000x600 with 1 Axes>"
      ]
     },
     "metadata": {},
     "output_type": "display_data"
    },
    {
     "data": {
      "image/png": "[encoded data removed]",
      "text/plain": [
       "<Figure size 1000x600 with 1 Axes>"
      ]
     },
     "metadata": {},
     "output_type": "display_data"
    }
   ],
   "source": [
    "# Check which model is the best\n",
    "cnn_model1 = tf.keras.models.load_model('Models/CNN_model1.h5')\n",
    "cnn_model2 = tf.keras.models.load_model('Models/CNN_model2.h5')\n",
    "cnn_model3 = tf.keras.models.load_model('Models/CNN_model3.h5')\n",
    "cnn_model4 = tf.keras.models.load_model('Models/CNN_model4.h5')\n",
    "cnn_model5 = tf.keras.models.load_model('Models/CNN_model5.h5')\n",
    "\n",
    "loss, accuracy = cnn_model1.evaluate(X_test, test_labels, verbose=0)\n",
    "print('CNN model1: accuracy: %f, loss: %f' % (accuracy*100, loss))\n",
    "\n",
    "loss, accuracy = cnn_model2.evaluate(X_test, test_labels, verbose=0)\n",
    "print('CNN model2: accuracy: %f, loss: %f' % (accuracy*100, loss))\n",
    "\n",
    "loss, accuracy = cnn_model3.evaluate(X_test, test_labels, verbose=0)\n",
    "print('CNN model3: accuracy: %f, loss: %f' % (accuracy*100, loss))\n",
    "\n",
    "loss, accuracy = cnn_model4.evaluate(X_test, test_labels, verbose=0)\n",
    "print('CNN model4: accuracy: %f, loss: %f' % (accuracy*100, loss))\n",
    "\n",
    "loss, accuracy = cnn_model5.evaluate(X_test, test_labels, verbose=0)\n",
    "print('CNN model5: accuracy: %f, loss: %f' % (accuracy*100, loss))\n",
    "\n",
    "# Plot the accuracy of the models\n",
    "plt.figure(figsize=(10, 6))\n",
    "plt.plot(cnn1_history.history['accuracy'], label='CNN model1')\n",
    "plt.plot(cnn2_history.history['accuracy'], label='CNN model2')\n",
    "plt.plot(cnn3_history.history['accuracy'], label='CNN model3')\n",
    "plt.plot(cnn4_history.history['accuracy'], label='CNN model4')\n",
    "plt.plot(cnn5_history.history['accuracy'], label='CNN model5')\n",
    "plt.title('Accuracy of the models')\n",
    "plt.ylabel('Accuracy')\n",
    "plt.xlabel('Epoch')\n",
    "plt.legend()\n",
    "plt.show()\n",
    "\n",
    "# Plot the loss of the models\n",
    "plt.figure(figsize=(10, 6))\n",
    "plt.plot(cnn1_history.history['loss'], label='CNN model1')\n",
    "plt.plot(cnn2_history.history['loss'], label='CNN model2')\n",
    "plt.plot(cnn3_history.history['loss'], label='CNN model3')\n",
    "plt.plot(cnn4_history.history['loss'], label='CNN model4')\n",
    "plt.plot(cnn5_history.history['loss'], label='CNN model5')\n",
    "plt.title('Loss of the models')\n",
    "plt.ylabel('Loss')\n",
    "plt.xlabel('Epoch')\n",
    "plt.legend()\n",
    "plt.show()\n"
   ]
  },
  {
   "cell_type": "code",
   "execution_count": 133,
   "metadata": {},
   "outputs": [],
   "source": [
    "# Save the best model\n",
    "accuracies = [cnn1_accuracy, cnn2_accuracy, cnn3_accuracy, cnn4_accuracy, cnn5_accuracy]\n",
    "models = [cnn_model1, cnn_model2, cnn_model3, cnn_model4, cnn_model5]\n",
    "histories = [cnn1_history, cnn2_history, cnn3_history, cnn4_history, cnn5_history]\n",
    "\n",
    "best_model = models[np.argmax(accuracies)]\n",
    "best_model.save('Models/CNN_best_model.h5')"
   ]
  },
  {
   "cell_type": "code",
   "execution_count": 134,
   "metadata": {},
   "outputs": [],
   "source": [
    "# Save the tokenizer\n",
    "with open('Data/tokenizer.pickle', 'wb') as handle:\n",
    "    pickle.dump(tokenizer, handle, protocol=pickle.HIGHEST_PROTOCOL)"
   ]
  }
 ],
 "metadata": {
  "kernelspec": {
   "display_name": "Python 3",
   "language": "python",
   "name": "python3"
  },
  "language_info": {
   "codemirror_mode": {
    "name": "ipython",
    "version": 3
   },
   "file_extension": ".py",
   "mimetype": "text/x-python",
   "name": "python",
   "nbconvert_exporter": "python",
   "pygments_lexer": "ipython3",
   "version": "3.10.9"
  },
  "orig_nbformat": 4
 },
 "nbformat": 4,
 "nbformat_minor": 2
}
