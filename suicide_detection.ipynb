{
 "cells": [
  {
   "cell_type": "code",
   "execution_count": 1,
   "metadata": {},
   "outputs": [
    {
     "name": "stderr",
     "output_type": "stream",
     "text": [
      "2023-08-30 14:37:32.475522: I tensorflow/core/platform/cpu_feature_guard.cc:182] This TensorFlow binary is optimized to use available CPU instructions in performance-critical operations.\n",
      "To enable the following instructions: AVX2 FMA, in other operations, rebuild TensorFlow with the appropriate compiler flags.\n"
     ]
    }
   ],
   "source": [
    "import pandas as pd\n",
    "import matplotlib.pyplot as plt\n",
    "from sklearn.model_selection import train_test_split\n",
    "import pickle\n",
    "\n",
    "from data_preprocessing import preprocess_text\n",
    "from word2vec import build_and_train_w2v, save_w2v, load_embeddings, create_sentence_vectors\n",
    "from Models.models_utils import *"
   ]
  },
  {
   "cell_type": "code",
   "execution_count": 4,
   "metadata": {},
   "outputs": [
    {
     "data": {
      "text/html": [
       "<div>\n",
       "<style scoped>\n",
       "    .dataframe tbody tr th:only-of-type {\n",
       "        vertical-align: middle;\n",
       "    }\n",
       "\n",
       "    .dataframe tbody tr th {\n",
       "        vertical-align: top;\n",
       "    }\n",
       "\n",
       "    .dataframe thead th {\n",
       "        text-align: right;\n",
       "    }\n",
       "</style>\n",
       "<table border=\"1\" class=\"dataframe\">\n",
       "  <thead>\n",
       "    <tr style=\"text-align: right;\">\n",
       "      <th></th>\n",
       "      <th>text</th>\n",
       "      <th>class</th>\n",
       "    </tr>\n",
       "  </thead>\n",
       "  <tbody>\n",
       "    <tr>\n",
       "      <th>0</th>\n",
       "      <td>Ex Wife Threatening SuicideRecently I left my ...</td>\n",
       "      <td>suicide</td>\n",
       "    </tr>\n",
       "    <tr>\n",
       "      <th>1</th>\n",
       "      <td>Am I weird I don't get affected by compliments...</td>\n",
       "      <td>non-suicide</td>\n",
       "    </tr>\n",
       "    <tr>\n",
       "      <th>2</th>\n",
       "      <td>Finally 2020 is almost over... So I can never ...</td>\n",
       "      <td>non-suicide</td>\n",
       "    </tr>\n",
       "    <tr>\n",
       "      <th>3</th>\n",
       "      <td>i need helpjust help me im crying so hard</td>\n",
       "      <td>suicide</td>\n",
       "    </tr>\n",
       "    <tr>\n",
       "      <th>4</th>\n",
       "      <td>I’m so lostHello, my name is Adam (16) and I’v...</td>\n",
       "      <td>suicide</td>\n",
       "    </tr>\n",
       "  </tbody>\n",
       "</table>\n",
       "</div>"
      ],
      "text/plain": [
       "                                                text        class\n",
       "0  Ex Wife Threatening SuicideRecently I left my ...      suicide\n",
       "1  Am I weird I don't get affected by compliments...  non-suicide\n",
       "2  Finally 2020 is almost over... So I can never ...  non-suicide\n",
       "3          i need helpjust help me im crying so hard      suicide\n",
       "4  I’m so lostHello, my name is Adam (16) and I’v...      suicide"
      ]
     },
     "execution_count": 4,
     "metadata": {},
     "output_type": "execute_result"
    }
   ],
   "source": [
    "# Load the data\n",
    "reddit_df = pd.read_csv('Data/Suicide_Detection.csv', index_col=0)\n",
    "reddit_df.reset_index(drop=True, inplace=True)\n",
    "\n",
    "reddit_df.head()"
   ]
  },
  {
   "cell_type": "markdown",
   "metadata": {},
   "source": [
    "### Preprocess Data"
   ]
  },
  {
   "cell_type": "code",
   "execution_count": 8,
   "metadata": {},
   "outputs": [
    {
     "data": {
      "text/html": [
       "<div>\n",
       "<style scoped>\n",
       "    .dataframe tbody tr th:only-of-type {\n",
       "        vertical-align: middle;\n",
       "    }\n",
       "\n",
       "    .dataframe tbody tr th {\n",
       "        vertical-align: top;\n",
       "    }\n",
       "\n",
       "    .dataframe thead th {\n",
       "        text-align: right;\n",
       "    }\n",
       "</style>\n",
       "<table border=\"1\" class=\"dataframe\">\n",
       "  <thead>\n",
       "    <tr style=\"text-align: right;\">\n",
       "      <th></th>\n",
       "      <th>text</th>\n",
       "      <th>class</th>\n",
       "      <th>cleaned_text</th>\n",
       "    </tr>\n",
       "  </thead>\n",
       "  <tbody>\n",
       "    <tr>\n",
       "      <th>0</th>\n",
       "      <td>Ex Wife Threatening SuicideRecently I left my ...</td>\n",
       "      <td>suicide</td>\n",
       "      <td>sex wife threaten suicide recently leave wife ...</td>\n",
       "    </tr>\n",
       "    <tr>\n",
       "      <th>1</th>\n",
       "      <td>Am I weird I don't get affected by compliments...</td>\n",
       "      <td>non-suicide</td>\n",
       "      <td>weird not get affected compliment come someone...</td>\n",
       "    </tr>\n",
       "    <tr>\n",
       "      <th>2</th>\n",
       "      <td>Finally 2020 is almost over... So I can never ...</td>\n",
       "      <td>non-suicide</td>\n",
       "      <td>finally almost never hear bad year ever swear ...</td>\n",
       "    </tr>\n",
       "    <tr>\n",
       "      <th>3</th>\n",
       "      <td>i need helpjust help me im crying so hard</td>\n",
       "      <td>suicide</td>\n",
       "      <td>need help help cry hard</td>\n",
       "    </tr>\n",
       "    <tr>\n",
       "      <th>4</th>\n",
       "      <td>I’m so lostHello, my name is Adam (16) and I’v...</td>\n",
       "      <td>suicide</td>\n",
       "      <td>lose hello name adam struggle year afraid past...</td>\n",
       "    </tr>\n",
       "  </tbody>\n",
       "</table>\n",
       "</div>"
      ],
      "text/plain": [
       "                                                text        class  \\\n",
       "0  Ex Wife Threatening SuicideRecently I left my ...      suicide   \n",
       "1  Am I weird I don't get affected by compliments...  non-suicide   \n",
       "2  Finally 2020 is almost over... So I can never ...  non-suicide   \n",
       "3          i need helpjust help me im crying so hard      suicide   \n",
       "4  I’m so lostHello, my name is Adam (16) and I’v...      suicide   \n",
       "\n",
       "                                        cleaned_text  \n",
       "0  sex wife threaten suicide recently leave wife ...  \n",
       "1  weird not get affected compliment come someone...  \n",
       "2  finally almost never hear bad year ever swear ...  \n",
       "3                            need help help cry hard  \n",
       "4  lose hello name adam struggle year afraid past...  "
      ]
     },
     "execution_count": 8,
     "metadata": {},
     "output_type": "execute_result"
    }
   ],
   "source": [
    "reddit_df['cleaned_text'] = reddit_df['text'].apply(lambda row: preprocess_text(row)) # Takes 108 m \n",
    "reddit_df.head()"
   ]
  },
  {
   "cell_type": "code",
   "execution_count": 21,
   "metadata": {},
   "outputs": [
    {
     "ename": "NameError",
     "evalue": "name 'reddit_df' is not defined",
     "output_type": "error",
     "traceback": [
      "\u001b[0;31m---------------------------------------------------------------------------\u001b[0m",
      "\u001b[0;31mNameError\u001b[0m                                 Traceback (most recent call last)",
      "Cell \u001b[0;32mIn[21], line 2\u001b[0m\n\u001b[1;32m      1\u001b[0m \u001b[39m# Export cleaned dataset\u001b[39;00m\n\u001b[0;32m----> 2\u001b[0m reddit_df\u001b[39m.\u001b[39mto_csv(\u001b[39m'\u001b[39m\u001b[39mData/Suicide_Detection_Cleaned.csv\u001b[39m\u001b[39m'\u001b[39m, index\u001b[39m=\u001b[39m\u001b[39mFalse\u001b[39;00m)\n",
      "\u001b[0;31mNameError\u001b[0m: name 'reddit_df' is not defined"
     ]
    }
   ],
   "source": [
    "# Export cleaned dataset\n",
    "reddit_df.to_csv('Data/Suicide_Detection_Cleaned.csv', index=False)"
   ]
  },
  {
   "cell_type": "code",
   "execution_count": 22,
   "metadata": {},
   "outputs": [],
   "source": [
    "cleaned_reddit_df = pd.read_csv('Data/Suicide_Detection_Cleaned.csv')"
   ]
  },
  {
   "cell_type": "code",
   "execution_count": 29,
   "metadata": {},
   "outputs": [],
   "source": [
    "cleaned_reddit_df = cleaned_reddit_df.dropna()\n",
    "cleaned_reddit_df.reset_index(drop=True, inplace=True)"
   ]
  },
  {
   "cell_type": "code",
   "execution_count": 30,
   "metadata": {},
   "outputs": [
    {
     "data": {
      "text/html": [
       "<div>\n",
       "<style scoped>\n",
       "    .dataframe tbody tr th:only-of-type {\n",
       "        vertical-align: middle;\n",
       "    }\n",
       "\n",
       "    .dataframe tbody tr th {\n",
       "        vertical-align: top;\n",
       "    }\n",
       "\n",
       "    .dataframe thead th {\n",
       "        text-align: right;\n",
       "    }\n",
       "</style>\n",
       "<table border=\"1\" class=\"dataframe\">\n",
       "  <thead>\n",
       "    <tr style=\"text-align: right;\">\n",
       "      <th></th>\n",
       "      <th>text</th>\n",
       "      <th>class</th>\n",
       "      <th>cleaned_text</th>\n",
       "    </tr>\n",
       "  </thead>\n",
       "  <tbody>\n",
       "    <tr>\n",
       "      <th>0</th>\n",
       "      <td>Ex Wife Threatening SuicideRecently I left my ...</td>\n",
       "      <td>suicide</td>\n",
       "      <td>sex wife threaten suicide recently leave wife ...</td>\n",
       "    </tr>\n",
       "    <tr>\n",
       "      <th>1</th>\n",
       "      <td>Am I weird I don't get affected by compliments...</td>\n",
       "      <td>non-suicide</td>\n",
       "      <td>weird not get affected compliment come someone...</td>\n",
       "    </tr>\n",
       "    <tr>\n",
       "      <th>2</th>\n",
       "      <td>Finally 2020 is almost over... So I can never ...</td>\n",
       "      <td>non-suicide</td>\n",
       "      <td>finally almost never hear bad year ever swear ...</td>\n",
       "    </tr>\n",
       "    <tr>\n",
       "      <th>3</th>\n",
       "      <td>i need helpjust help me im crying so hard</td>\n",
       "      <td>suicide</td>\n",
       "      <td>need help help cry hard</td>\n",
       "    </tr>\n",
       "    <tr>\n",
       "      <th>4</th>\n",
       "      <td>I’m so lostHello, my name is Adam (16) and I’v...</td>\n",
       "      <td>suicide</td>\n",
       "      <td>lose hello name adam struggle year afraid past...</td>\n",
       "    </tr>\n",
       "    <tr>\n",
       "      <th>...</th>\n",
       "      <td>...</td>\n",
       "      <td>...</td>\n",
       "      <td>...</td>\n",
       "    </tr>\n",
       "    <tr>\n",
       "      <th>231969</th>\n",
       "      <td>If you don't like rock then your not going to ...</td>\n",
       "      <td>non-suicide</td>\n",
       "      <td>not like rock not go get anything go</td>\n",
       "    </tr>\n",
       "    <tr>\n",
       "      <th>231970</th>\n",
       "      <td>You how you can tell i have so many friends an...</td>\n",
       "      <td>non-suicide</td>\n",
       "      <td>tell many friend not lonely everything deprive...</td>\n",
       "    </tr>\n",
       "    <tr>\n",
       "      <th>231971</th>\n",
       "      <td>pee probably tastes like salty tea😏💦‼️ can som...</td>\n",
       "      <td>non-suicide</td>\n",
       "      <td>pee probably taste like salty tea someone drin...</td>\n",
       "    </tr>\n",
       "    <tr>\n",
       "      <th>231972</th>\n",
       "      <td>The usual stuff you find hereI'm not posting t...</td>\n",
       "      <td>suicide</td>\n",
       "      <td>usual stuff find herein not post sympathy pity...</td>\n",
       "    </tr>\n",
       "    <tr>\n",
       "      <th>231973</th>\n",
       "      <td>I still haven't beaten the first boss in Hollo...</td>\n",
       "      <td>non-suicide</td>\n",
       "      <td>still not beat first bos hollow knight fought ...</td>\n",
       "    </tr>\n",
       "  </tbody>\n",
       "</table>\n",
       "<p>231974 rows × 3 columns</p>\n",
       "</div>"
      ],
      "text/plain": [
       "                                                     text        class  \\\n",
       "0       Ex Wife Threatening SuicideRecently I left my ...      suicide   \n",
       "1       Am I weird I don't get affected by compliments...  non-suicide   \n",
       "2       Finally 2020 is almost over... So I can never ...  non-suicide   \n",
       "3               i need helpjust help me im crying so hard      suicide   \n",
       "4       I’m so lostHello, my name is Adam (16) and I’v...      suicide   \n",
       "...                                                   ...          ...   \n",
       "231969  If you don't like rock then your not going to ...  non-suicide   \n",
       "231970  You how you can tell i have so many friends an...  non-suicide   \n",
       "231971  pee probably tastes like salty tea😏💦‼️ can som...  non-suicide   \n",
       "231972  The usual stuff you find hereI'm not posting t...      suicide   \n",
       "231973  I still haven't beaten the first boss in Hollo...  non-suicide   \n",
       "\n",
       "                                             cleaned_text  \n",
       "0       sex wife threaten suicide recently leave wife ...  \n",
       "1       weird not get affected compliment come someone...  \n",
       "2       finally almost never hear bad year ever swear ...  \n",
       "3                                 need help help cry hard  \n",
       "4       lose hello name adam struggle year afraid past...  \n",
       "...                                                   ...  \n",
       "231969               not like rock not go get anything go  \n",
       "231970  tell many friend not lonely everything deprive...  \n",
       "231971  pee probably taste like salty tea someone drin...  \n",
       "231972  usual stuff find herein not post sympathy pity...  \n",
       "231973  still not beat first bos hollow knight fought ...  \n",
       "\n",
       "[231974 rows x 3 columns]"
      ]
     },
     "execution_count": 30,
     "metadata": {},
     "output_type": "execute_result"
    }
   ],
   "source": [
    "cleaned_reddit_df"
   ]
  },
  {
   "cell_type": "code",
   "execution_count": 31,
   "metadata": {},
   "outputs": [
    {
     "data": {
      "image/png": "[encoded data removed]",
      "text/plain": [
       "<Figure size 640x480 with 1 Axes>"
      ]
     },
     "metadata": {},
     "output_type": "display_data"
    },
    {
     "name": "stdout",
     "output_type": "stream",
     "text": [
      "count    231974.000000\n",
      "mean         62.222525\n",
      "std          99.919864\n",
      "min           1.000000\n",
      "25%          13.000000\n",
      "50%          29.000000\n",
      "75%          73.000000\n",
      "max        5842.000000\n",
      "dtype: float64\n"
     ]
    }
   ],
   "source": [
    "posts_len = [len(x.split()) for x in cleaned_reddit_df['cleaned_text']]\n",
    "pd.Series(posts_len).hist(bins=60)\n",
    "plt.show()\n",
    "print(pd.Series(posts_len).describe())"
   ]
  },
  {
   "cell_type": "code",
   "execution_count": 32,
   "metadata": {},
   "outputs": [],
   "source": [
    "cleaned_reddit_df = cleaned_reddit_df[cleaned_reddit_df['cleaned_text'].apply(lambda x: len(x.split()) <= 73)]\n",
    "cleaned_reddit_df.reset_index(drop=True, inplace=True)"
   ]
  },
  {
   "cell_type": "code",
   "execution_count": 33,
   "metadata": {},
   "outputs": [
    {
     "data": {
      "text/html": [
       "<div>\n",
       "<style scoped>\n",
       "    .dataframe tbody tr th:only-of-type {\n",
       "        vertical-align: middle;\n",
       "    }\n",
       "\n",
       "    .dataframe tbody tr th {\n",
       "        vertical-align: top;\n",
       "    }\n",
       "\n",
       "    .dataframe thead th {\n",
       "        text-align: right;\n",
       "    }\n",
       "</style>\n",
       "<table border=\"1\" class=\"dataframe\">\n",
       "  <thead>\n",
       "    <tr style=\"text-align: right;\">\n",
       "      <th></th>\n",
       "      <th>text</th>\n",
       "      <th>class</th>\n",
       "      <th>cleaned_text</th>\n",
       "    </tr>\n",
       "  </thead>\n",
       "  <tbody>\n",
       "    <tr>\n",
       "      <th>0</th>\n",
       "      <td>Ex Wife Threatening SuicideRecently I left my ...</td>\n",
       "      <td>suicide</td>\n",
       "      <td>sex wife threaten suicide recently leave wife ...</td>\n",
       "    </tr>\n",
       "    <tr>\n",
       "      <th>1</th>\n",
       "      <td>Am I weird I don't get affected by compliments...</td>\n",
       "      <td>non-suicide</td>\n",
       "      <td>weird not get affected compliment come someone...</td>\n",
       "    </tr>\n",
       "    <tr>\n",
       "      <th>2</th>\n",
       "      <td>Finally 2020 is almost over... So I can never ...</td>\n",
       "      <td>non-suicide</td>\n",
       "      <td>finally almost never hear bad year ever swear ...</td>\n",
       "    </tr>\n",
       "    <tr>\n",
       "      <th>3</th>\n",
       "      <td>i need helpjust help me im crying so hard</td>\n",
       "      <td>suicide</td>\n",
       "      <td>need help help cry hard</td>\n",
       "    </tr>\n",
       "    <tr>\n",
       "      <th>4</th>\n",
       "      <td>It ends tonight.I can’t do it anymore. \\nI quit.</td>\n",
       "      <td>suicide</td>\n",
       "      <td>end tonight can not anymore quit</td>\n",
       "    </tr>\n",
       "    <tr>\n",
       "      <th>...</th>\n",
       "      <td>...</td>\n",
       "      <td>...</td>\n",
       "      <td>...</td>\n",
       "    </tr>\n",
       "    <tr>\n",
       "      <th>174219</th>\n",
       "      <td>I did something today I went sledding with my ...</td>\n",
       "      <td>non-suicide</td>\n",
       "      <td>something today go sled friend may not seem li...</td>\n",
       "    </tr>\n",
       "    <tr>\n",
       "      <th>174220</th>\n",
       "      <td>If you don't like rock then your not going to ...</td>\n",
       "      <td>non-suicide</td>\n",
       "      <td>not like rock not go get anything go</td>\n",
       "    </tr>\n",
       "    <tr>\n",
       "      <th>174221</th>\n",
       "      <td>You how you can tell i have so many friends an...</td>\n",
       "      <td>non-suicide</td>\n",
       "      <td>tell many friend not lonely everything deprive...</td>\n",
       "    </tr>\n",
       "    <tr>\n",
       "      <th>174222</th>\n",
       "      <td>pee probably tastes like salty tea😏💦‼️ can som...</td>\n",
       "      <td>non-suicide</td>\n",
       "      <td>pee probably taste like salty tea someone drin...</td>\n",
       "    </tr>\n",
       "    <tr>\n",
       "      <th>174223</th>\n",
       "      <td>I still haven't beaten the first boss in Hollo...</td>\n",
       "      <td>non-suicide</td>\n",
       "      <td>still not beat first bos hollow knight fought ...</td>\n",
       "    </tr>\n",
       "  </tbody>\n",
       "</table>\n",
       "<p>174224 rows × 3 columns</p>\n",
       "</div>"
      ],
      "text/plain": [
       "                                                     text        class  \\\n",
       "0       Ex Wife Threatening SuicideRecently I left my ...      suicide   \n",
       "1       Am I weird I don't get affected by compliments...  non-suicide   \n",
       "2       Finally 2020 is almost over... So I can never ...  non-suicide   \n",
       "3               i need helpjust help me im crying so hard      suicide   \n",
       "4        It ends tonight.I can’t do it anymore. \\nI quit.      suicide   \n",
       "...                                                   ...          ...   \n",
       "174219  I did something today I went sledding with my ...  non-suicide   \n",
       "174220  If you don't like rock then your not going to ...  non-suicide   \n",
       "174221  You how you can tell i have so many friends an...  non-suicide   \n",
       "174222  pee probably tastes like salty tea😏💦‼️ can som...  non-suicide   \n",
       "174223  I still haven't beaten the first boss in Hollo...  non-suicide   \n",
       "\n",
       "                                             cleaned_text  \n",
       "0       sex wife threaten suicide recently leave wife ...  \n",
       "1       weird not get affected compliment come someone...  \n",
       "2       finally almost never hear bad year ever swear ...  \n",
       "3                                 need help help cry hard  \n",
       "4                        end tonight can not anymore quit  \n",
       "...                                                   ...  \n",
       "174219  something today go sled friend may not seem li...  \n",
       "174220               not like rock not go get anything go  \n",
       "174221  tell many friend not lonely everything deprive...  \n",
       "174222  pee probably taste like salty tea someone drin...  \n",
       "174223  still not beat first bos hollow knight fought ...  \n",
       "\n",
       "[174224 rows x 3 columns]"
      ]
     },
     "execution_count": 33,
     "metadata": {},
     "output_type": "execute_result"
    }
   ],
   "source": [
    "cleaned_reddit_df"
   ]
  },
  {
   "cell_type": "code",
   "execution_count": 34,
   "metadata": {},
   "outputs": [],
   "source": [
    "# Export cleaned dataset\n",
    "cleaned_reddit_df.to_csv('Data/Suicide_Detection_Final.csv', index=False)"
   ]
  }
 ],
 "metadata": {
  "kernelspec": {
   "display_name": "test_venv",
   "language": "python",
   "name": "python3"
  },
  "language_info": {
   "codemirror_mode": {
    "name": "ipython",
    "version": 3
   },
   "file_extension": ".py",
   "mimetype": "text/x-python",
   "name": "python",
   "nbconvert_exporter": "python",
   "pygments_lexer": "ipython3",
   "version": "3.10.9"
  },
  "orig_nbformat": 4
 },
 "nbformat": 4,
 "nbformat_minor": 2
}
